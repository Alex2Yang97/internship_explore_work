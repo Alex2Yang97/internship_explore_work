{
 "cells": [
  {
   "cell_type": "markdown",
   "metadata": {},
   "source": [
    "https://github.com/strongio/quantile-regression-tensorflow/blob/master/Quantile%20Loss.ipynb"
   ]
  },
  {
   "cell_type": "code",
   "execution_count": 10,
   "metadata": {},
   "outputs": [],
   "source": [
    "import tensorflow as tf\n",
    "import pandas as pd\n",
    "import numpy as np\n",
    "import matplotlib.pyplot as plt\n",
    "\n",
    "%matplotlib inline\n",
    "\n",
    "# Initialize session\n",
    "# sess = tf.Session()\n",
    "sess = tf.compat.v1.Session()"
   ]
  },
  {
   "cell_type": "code",
   "execution_count": 11,
   "metadata": {},
   "outputs": [],
   "source": [
    "# Load data\n",
    "mcycle = pd.read_csv('mcycle',delimiter='\\t')\n",
    "mcycle.times = (mcycle.times - mcycle.times.mean())/mcycle.times.std()\n",
    "mcycle.accel = (mcycle.accel - mcycle.accel.mean())/mcycle.accel.std()\n",
    "\n",
    "# Reshape to input format for network\n",
    "times = np.expand_dims(mcycle.times.values, 1)\n",
    "accel = np.expand_dims(mcycle.accel.values, 1)"
   ]
  },
  {
   "cell_type": "code",
   "execution_count": 13,
   "metadata": {},
   "outputs": [],
   "source": [
    "# # Create network\n",
    "# class q_model:\n",
    "#     def __init__(self, \n",
    "#                  sess, \n",
    "#                  quantiles, \n",
    "#                  in_shape=1, \n",
    "#                  out_shape=1, \n",
    "#                  batch_size=32):\n",
    "        \n",
    "#         self.sess = sess\n",
    "        \n",
    "#         self.quantiles = quantiles\n",
    "#         self.num_quantiles = len(quantiles)\n",
    "        \n",
    "#         self.in_shape = in_shape\n",
    "#         self.out_shape = out_shape\n",
    "#         self.batch_size = batch_size\n",
    "        \n",
    "#         self.outputs = []\n",
    "#         self.losses = []\n",
    "#         self.loss_history = []\n",
    "        \n",
    "#         self.build_model()\n",
    "        \n",
    "#     def build_model(self, scope='q_model', reuse=tf.AUTO_REUSE): \n",
    "#         with tf.variable_scope(scope, reuse=reuse) as scope:\n",
    "#             self.x = tf.placeholder(tf.float32, shape=(None, self.in_shape))\n",
    "#             self.y = tf.placeholder(tf.float32, shape=(None, self.out_shape))\n",
    "\n",
    "#             self.layer0 = tf.layers.dense(self.x, \n",
    "#                                     units=32, \n",
    "#                                     activation=tf.nn.relu)\n",
    "#             self.layer1 = tf.layers.dense(self.layer0, \n",
    "#                                     units=32, \n",
    "#                                     activation=tf.nn.relu)\n",
    "\n",
    "#             # Create outputs and losses for all quantiles\n",
    "#             for i in range(self.num_quantiles):\n",
    "#                 q = self.quantiles[i]\n",
    "                \n",
    "#                 # Get output layers \n",
    "#                 output = tf.layers.dense(self.layer1, 1, name=\"{}_q{}\".format(i, int(q*100)))\n",
    "#                 self.outputs.append(output)\n",
    "                \n",
    "#                 # Create losses\n",
    "                \n",
    "#                 error = tf.subtract(self.y, output)\n",
    "#                 loss = tf.reduce_mean(tf.maximum(q*error, (q-1)*error), axis=-1)\n",
    "\n",
    "#                 self.losses.append(loss)\n",
    "\n",
    "#             # Create combined loss\n",
    "#             self.combined_loss = tf.reduce_mean(tf.add_n(self.losses))\n",
    "#             self.train_step = tf.train.AdamOptimizer().minimize(self.combined_loss)\n",
    "\n",
    "#     def fit(self, x, y, epochs=100):  \n",
    "#         for epoch in range(epochs):\n",
    "#             epoch_losses = []\n",
    "#             for idx in range(0, x.shape[0], self.batch_size):\n",
    "#                 batch_x = x[idx : min(idx + self.batch_size, x.shape[0]),:]\n",
    "#                 batch_y = y[idx : min(idx + self.batch_size, y.shape[0]),:]\n",
    "\n",
    "#                 feed_dict = {self.x: batch_x,\n",
    "#                              self.y: batch_y}\n",
    "\n",
    "#                 _, c_loss = self.sess.run([self.train_step, self.combined_loss], feed_dict)\n",
    "#                 epoch_losses.append(c_loss)\n",
    "                \n",
    "#             epoch_loss =  np.mean(epoch_losses)\n",
    "#             self.loss_history.append(epoch_loss)\n",
    "#             if epoch % 100 == 0:\n",
    "#                 print(\"Epoch {}: {}\".format(epoch, epoch_loss))\n",
    "            \n",
    "#     def predict(self, x):   \n",
    "#         # Run model to get outputs\n",
    "#         feed_dict = {self.x: x}\n",
    "#         predictions = sess.run(self.outputs, feed_dict)\n",
    "        \n",
    "#         return predictions"
   ]
  },
  {
   "cell_type": "code",
   "execution_count": 14,
   "metadata": {},
   "outputs": [],
   "source": [
    "# # Instantiate model\n",
    "# quantiles = [.1, .5, .9]\n",
    "# model = q_model(sess, quantiles, batch_size=32)\n",
    "\n",
    "# # Initialize all variables\n",
    "# init_op = tf.global_variables_initializer()\n",
    "# sess.run(init_op)"
   ]
  },
  {
   "cell_type": "code",
   "execution_count": null,
   "metadata": {},
   "outputs": [],
   "source": []
  }
 ],
 "metadata": {
  "kernelspec": {
   "display_name": "Python 3",
   "language": "python",
   "name": "python3"
  },
  "language_info": {
   "codemirror_mode": {
    "name": "ipython",
    "version": 3
   },
   "file_extension": ".py",
   "mimetype": "text/x-python",
   "name": "python",
   "nbconvert_exporter": "python",
   "pygments_lexer": "ipython3",
   "version": "3.7.6"
  }
 },
 "nbformat": 4,
 "nbformat_minor": 4
}
